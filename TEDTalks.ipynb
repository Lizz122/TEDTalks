{
 "cells": [
  {
   "cell_type": "markdown",
   "id": "0fd3af64",
   "metadata": {},
   "source": [
    "# Project Overview\n",
    "Data will be scraped from www.ted.com, the official TED website.\n",
    "\n",
    "TED website is a popular online repository of audiovisual recordings of speakers from diverse disciplines from all over the world who are generally given a maximum of 18 minutes to present their ideas.\n",
    "\n",
    "The data to be scraped includes the speaker name, talk title, when the talk was published, talk duration, talk URL, number of views per talk, number of likes per talk, TED event, and the speaker occupation."
   ]
  },
  {
   "cell_type": "code",
   "execution_count": 1,
   "id": "826bd413",
   "metadata": {},
   "outputs": [],
   "source": [
    "import requests\n",
    "import pandas as pd\n",
    "from bs4 import BeautifulSoup\n",
    "from selenium import webdriver\n",
    "from selenium.webdriver.chrome.service import Service\n",
    "from webdriver_manager.chrome import ChromeDriverManager\n",
    "import time\n",
    "import logging\n",
    "logging.getLogger('WDM').setLevel(logging.NOTSET)"
   ]
  },
  {
   "cell_type": "code",
   "execution_count": 2,
   "id": "4fe2d986",
   "metadata": {},
   "outputs": [],
   "source": [
    "driver = webdriver.Chrome(service=Service(ChromeDriverManager().install()))\n",
    "driver.get(\"https://www.ted.com/talks?page=1\")\n",
    "time.sleep(3)\n",
    "html_source = driver.page_source\n",
    "soup = BeautifulSoup(html_source,'lxml')"
   ]
  },
  {
   "cell_type": "markdown",
   "id": "d2da12b8",
   "metadata": {},
   "source": [
    "# Speaker Name"
   ]
  },
  {
   "cell_type": "code",
   "execution_count": 3,
   "id": "7445ee6b",
   "metadata": {},
   "outputs": [],
   "source": [
    "page = 1\n",
    "names = []\n",
    "while page != 159:\n",
    "    driver.get(f\"https://www.ted.com/talks?page={page}\")\n",
    "    driver.implicitly_wait(3)\n",
    "    html_source = driver.page_source\n",
    "    soup = BeautifulSoup(html_source, 'lxml')\n",
    "    \n",
    "    for h4 in soup.find_all(\"h4\", class_=\"h12 talk-link__speaker\"):\n",
    "        names.append(h4.get_text(strip=True))\n",
    "    page = page + 1"
   ]
  },
  {
   "cell_type": "code",
   "execution_count": 4,
   "id": "3cc01c9d",
   "metadata": {},
   "outputs": [
    {
     "data": {
      "text/plain": [
       "['Henri Picciotto',\n",
       " 'Andrew Ng',\n",
       " 'Melodie Yashar',\n",
       " 'Nicholas Leeper',\n",
       " 'Hei Man Chan']"
      ]
     },
     "execution_count": 4,
     "metadata": {},
     "output_type": "execute_result"
    }
   ],
   "source": [
    "names[:5]"
   ]
  },
  {
   "cell_type": "code",
   "execution_count": 5,
   "id": "8997e5be",
   "metadata": {},
   "outputs": [
    {
     "data": {
      "text/plain": [
       "5687"
      ]
     },
     "execution_count": 5,
     "metadata": {},
     "output_type": "execute_result"
    }
   ],
   "source": [
    "len(names)"
   ]
  },
  {
   "cell_type": "markdown",
   "id": "38fb62fe",
   "metadata": {},
   "source": [
    "# Talk Title"
   ]
  },
  {
   "cell_type": "code",
   "execution_count": 6,
   "id": "ad00e3de",
   "metadata": {},
   "outputs": [],
   "source": [
    "page = 1\n",
    "pst = []\n",
    "while page != 159:\n",
    "    driver.get(f\"https://www.ted.com/talks?page={page}\")\n",
    "    driver.implicitly_wait(3)\n",
    "    html_source = driver.page_source\n",
    "    soup = BeautifulSoup(html_source, 'lxml')\n",
    "    \n",
    "    for a in soup.find_all('a', class_ = 'ga-link', attrs = {'data-ga-context': 'talks'}):\n",
    "        pst.append(a.get_text(strip=True))\n",
    "        \n",
    "    page= page + 1\n",
    "\n",
    "titles = []   \n",
    "for i in pst[1::2]: # This for loop removes the time string appended to the titles\n",
    "    titles.append(i)    "
   ]
  },
  {
   "cell_type": "code",
   "execution_count": 7,
   "id": "0fa69c4c",
   "metadata": {},
   "outputs": [
    {
     "data": {
      "text/plain": [
       "['Can you solve the alien pyramid riddle?',\n",
       " 'How AI could empower any business',\n",
       " 'How to build for human life on Mars',\n",
       " 'Is there a link between cancer and heart disease?',\n",
       " 'Is it possible to lose weight fast?',\n",
       " \"Is the pandemic actually over? It's complicated\"]"
      ]
     },
     "execution_count": 7,
     "metadata": {},
     "output_type": "execute_result"
    }
   ],
   "source": [
    "titles[:6]"
   ]
  },
  {
   "cell_type": "code",
   "execution_count": 8,
   "id": "175cf8b2",
   "metadata": {},
   "outputs": [
    {
     "data": {
      "text/plain": [
       "5687"
      ]
     },
     "execution_count": 8,
     "metadata": {},
     "output_type": "execute_result"
    }
   ],
   "source": [
    "len(titles)"
   ]
  },
  {
   "cell_type": "markdown",
   "id": "8cc52adb",
   "metadata": {},
   "source": [
    "# Month/Year Posted"
   ]
  },
  {
   "cell_type": "code",
   "execution_count": 9,
   "id": "83be9d2e",
   "metadata": {},
   "outputs": [],
   "source": [
    "page = 1\n",
    "posted = []\n",
    "while page != 159:\n",
    "    driver.get(f\"https://www.ted.com/talks?page={page}\")\n",
    "    driver.implicitly_wait(3)\n",
    "    html_source = driver.page_source\n",
    "    soup = BeautifulSoup(html_source, 'lxml')\n",
    "    \n",
    "    for span in soup.find_all(\"span\", class_ = 'meta__val'):\n",
    "        posted.append(span.get_text(strip=True))\n",
    "        \n",
    "    page= page + 1"
   ]
  },
  {
   "cell_type": "code",
   "execution_count": 10,
   "id": "01a9be76",
   "metadata": {},
   "outputs": [
    {
     "data": {
      "text/plain": [
       "['Sep 2022', 'Sep 2022', 'Sep 2022', 'Sep 2022', 'Sep 2022', 'Sep 2022']"
      ]
     },
     "execution_count": 10,
     "metadata": {},
     "output_type": "execute_result"
    }
   ],
   "source": [
    "posted[:6]"
   ]
  },
  {
   "cell_type": "code",
   "execution_count": 11,
   "id": "ad690785",
   "metadata": {},
   "outputs": [
    {
     "data": {
      "text/plain": [
       "5687"
      ]
     },
     "execution_count": 11,
     "metadata": {},
     "output_type": "execute_result"
    }
   ],
   "source": [
    "len(posted)"
   ]
  },
  {
   "cell_type": "markdown",
   "id": "ef4e3720",
   "metadata": {},
   "source": [
    "# Talk Duration"
   ]
  },
  {
   "cell_type": "code",
   "execution_count": 12,
   "id": "286d12b4",
   "metadata": {},
   "outputs": [],
   "source": [
    "page = 1\n",
    "duration = []\n",
    "while page != 159:\n",
    "    driver.get(f\"https://www.ted.com/talks?page={page}\")\n",
    "    driver.implicitly_wait(3)\n",
    "    html_source = driver.page_source\n",
    "    soup = BeautifulSoup(html_source, 'lxml')\n",
    "    \n",
    "    for span in soup.find_all(\"span\", class_ = 'thumb__duration'):\n",
    "        duration.append(span.get_text(strip=True))\n",
    "        \n",
    "    page= page + 1 "
   ]
  },
  {
   "cell_type": "code",
   "execution_count": 13,
   "id": "dcc77151",
   "metadata": {},
   "outputs": [
    {
     "data": {
      "text/plain": [
       "['4:54', '11:13', '10:37', '15:16', '4:37', '28:25', '17:05', '5:23']"
      ]
     },
     "execution_count": 13,
     "metadata": {},
     "output_type": "execute_result"
    }
   ],
   "source": [
    "duration[:8]"
   ]
  },
  {
   "cell_type": "code",
   "execution_count": 14,
   "id": "2437e5eb",
   "metadata": {},
   "outputs": [
    {
     "data": {
      "text/plain": [
       "5687"
      ]
     },
     "execution_count": 14,
     "metadata": {},
     "output_type": "execute_result"
    }
   ],
   "source": [
    "len(duration)"
   ]
  },
  {
   "cell_type": "markdown",
   "id": "4fcacbea",
   "metadata": {},
   "source": [
    "# URLs"
   ]
  },
  {
   "cell_type": "code",
   "execution_count": 15,
   "id": "142a2ec6",
   "metadata": {},
   "outputs": [],
   "source": [
    "page = 1\n",
    "links = []\n",
    "while page != 159:\n",
    "    driver.get(f\"https://www.ted.com/talks?page={page}\")\n",
    "    driver.implicitly_wait(3)\n",
    "    html_source = driver.page_source\n",
    "    soup = BeautifulSoup(html_source, 'lxml')\n",
    "    \n",
    "    for a_href in soup.find_all('a', class_ = 'ga-link', attrs = {'data-ga-context': 'talks'}):\n",
    "            links.append('https://www.ted.com' + a_href[\"href\"]) # Using first part of link and joining it with the href part\n",
    "        \n",
    "    page= page + 1\n",
    "    \n",
    "# Result had duplicate links, so this for loop fixed that.    \n",
    "links2 = []\n",
    "for link in links:\n",
    "    if link not in links2:\n",
    "        links2.append(link) # To deal with duplicate links"
   ]
  },
  {
   "cell_type": "code",
   "execution_count": 16,
   "id": "690f7623",
   "metadata": {},
   "outputs": [
    {
     "data": {
      "text/plain": [
       "['https://www.ted.com/talks/henri_picciotto_can_you_solve_the_alien_pyramid_riddle',\n",
       " 'https://www.ted.com/talks/andrew_ng_how_ai_could_empower_any_business',\n",
       " 'https://www.ted.com/talks/melodie_yashar_how_to_build_for_human_life_on_mars',\n",
       " 'https://www.ted.com/talks/nicholas_leeper_is_there_a_link_between_cancer_and_heart_disease',\n",
       " 'https://www.ted.com/talks/hei_man_chan_is_it_possible_to_lose_weight_fast',\n",
       " 'https://www.ted.com/talks/anthony_fauci_is_the_pandemic_actually_over_it_s_complicated']"
      ]
     },
     "execution_count": 16,
     "metadata": {},
     "output_type": "execute_result"
    }
   ],
   "source": [
    "links2[:6]"
   ]
  },
  {
   "cell_type": "code",
   "execution_count": 17,
   "id": "12fedbc0",
   "metadata": {},
   "outputs": [
    {
     "data": {
      "text/plain": [
       "5687"
      ]
     },
     "execution_count": 17,
     "metadata": {},
     "output_type": "execute_result"
    }
   ],
   "source": [
    "len(links2)"
   ]
  },
  {
   "cell_type": "markdown",
   "id": "03526f7d",
   "metadata": {},
   "source": [
    "# Number of Views / Event Name"
   ]
  },
  {
   "cell_type": "code",
   "execution_count": 18,
   "id": "25a89e3f",
   "metadata": {},
   "outputs": [],
   "source": [
    "# Views are interlinked to individual web pages, so URLs will be used to extract data from those specific pages.\n",
    "\n",
    "\n",
    "views_no = []   \n",
    "for url in links2:\n",
    "    driver.get(url)\n",
    "    driver.implicitly_wait(3)\n",
    "    soup2 = BeautifulSoup(driver.page_source,\"lxml\")\n",
    "    \n",
    "    for d in soup2.find_all(\"div\", class_ = \"text-sm w-full truncate text-gray-900\", attrs = {'data-testid': 'talk-meta'}):\n",
    "        views_no.append(d.get_text(strip=True))\n",
    "        "
   ]
  },
  {
   "cell_type": "code",
   "execution_count": 19,
   "id": "b6fd12e5",
   "metadata": {},
   "outputs": [
    {
     "data": {
      "text/plain": [
       "['Henri Picciotto • TED-Ed',\n",
       " '200,685 views | Andrew Ng • TED2022',\n",
       " '292,542 views | Melodie Yashar • TED2022',\n",
       " '431,971 views | Nicholas Leeper • TEDxVienna',\n",
       " '380,671 views | Hei Man Chan • TED-Ed',\n",
       " '445,255 views | Anthony Fauci • TED Membership',\n",
       " '414,705 views | Majora Carter • TED2022']"
      ]
     },
     "execution_count": 19,
     "metadata": {},
     "output_type": "execute_result"
    }
   ],
   "source": [
    "views_no[:7]"
   ]
  },
  {
   "cell_type": "code",
   "execution_count": 20,
   "id": "c717d1dd",
   "metadata": {},
   "outputs": [
    {
     "data": {
      "text/plain": [
       "5687"
      ]
     },
     "execution_count": 20,
     "metadata": {},
     "output_type": "execute_result"
    }
   ],
   "source": [
    "len(views_no)"
   ]
  },
  {
   "cell_type": "code",
   "execution_count": 21,
   "id": "a08a9980",
   "metadata": {},
   "outputs": [],
   "source": [
    "# Iterating through the views_no list to extract the views and the event name\n",
    "\n",
    "views = [item.split(\" views\")[0] for item in views_no]\n",
    "\n",
    "event_name = [item.split(\"• \")[-1] for item in views_no]"
   ]
  },
  {
   "cell_type": "code",
   "execution_count": 23,
   "id": "5a0f41b1",
   "metadata": {},
   "outputs": [
    {
     "data": {
      "text/plain": [
       "5687"
      ]
     },
     "execution_count": 23,
     "metadata": {},
     "output_type": "execute_result"
    }
   ],
   "source": [
    "len(views)"
   ]
  },
  {
   "cell_type": "code",
   "execution_count": 24,
   "id": "ac439637",
   "metadata": {},
   "outputs": [
    {
     "data": {
      "text/plain": [
       "5687"
      ]
     },
     "execution_count": 24,
     "metadata": {},
     "output_type": "execute_result"
    }
   ],
   "source": [
    "len(event_name)"
   ]
  },
  {
   "cell_type": "markdown",
   "id": "4f1acc8c",
   "metadata": {},
   "source": [
    "# Number of Likes"
   ]
  },
  {
   "cell_type": "code",
   "execution_count": 25,
   "id": "49141b62",
   "metadata": {},
   "outputs": [],
   "source": [
    "# Likes are interlinked to individual web pages, so URLs will be used to extract data from those specific pages.\n",
    "\n",
    "\n",
    "likes_no = []   \n",
    "for url in links2:\n",
    "    driver.get(url)\n",
    "    driver.implicitly_wait(3)\n",
    "    soup2 = BeautifulSoup(driver.page_source,\"lxml\")\n",
    "    \n",
    "    for i in soup2.find_all(\"div\", class_ = \"transition-opacity duration-300 inline-flex items-center opacity-100\"):\n",
    "        spans = i.find_all(\"span\")\n",
    "        \n",
    "        for span in spans:\n",
    "            n = span.text\n",
    "            if n != '':\n",
    "                likes_no.append(n)\n",
    "                \n",
    "likes_no2 = [] # This removes duplicate likes. The above for loops duplicated the likes for each speaker.\n",
    "for i in likes_no[ :  : 2]:\n",
    "    likes_no2.append(i)  "
   ]
  },
  {
   "cell_type": "code",
   "execution_count": 26,
   "id": "9df69834",
   "metadata": {},
   "outputs": [
    {
     "data": {
      "text/plain": [
       "['\\xa0(35)', '\\xa0(7.1K)', '\\xa0(9.1K)', '\\xa0(13K)', '\\xa0(11K)', '\\xa0(13K)']"
      ]
     },
     "execution_count": 26,
     "metadata": {},
     "output_type": "execute_result"
    }
   ],
   "source": [
    "likes_no2[:6]"
   ]
  },
  {
   "cell_type": "code",
   "execution_count": 27,
   "id": "6ab70de4",
   "metadata": {},
   "outputs": [],
   "source": [
    "# Editing likes_no and removing all the unwanted characters \n",
    "f = []\n",
    "for i in likes_no2:\n",
    "    f.append(i.strip(')'))\n",
    "    likes = []\n",
    "for i in f:\n",
    "    likes.append(i.strip(\"\\xa0(\"))        "
   ]
  },
  {
   "cell_type": "code",
   "execution_count": 28,
   "id": "dcfbc65e",
   "metadata": {},
   "outputs": [
    {
     "data": {
      "text/plain": [
       "5684"
      ]
     },
     "execution_count": 28,
     "metadata": {},
     "output_type": "execute_result"
    }
   ],
   "source": [
    "len(likes)"
   ]
  },
  {
   "cell_type": "code",
   "execution_count": 29,
   "id": "b471369b",
   "metadata": {},
   "outputs": [
    {
     "data": {
      "text/plain": [
       "['35', '7.1K', '9.1K', '13K', '11K', '13K', '12K', '4.7K']"
      ]
     },
     "execution_count": 29,
     "metadata": {},
     "output_type": "execute_result"
    }
   ],
   "source": [
    "likes[:8]"
   ]
  },
  {
   "cell_type": "markdown",
   "id": "bb7ff7ed",
   "metadata": {},
   "source": [
    "# Creating The Dataframe"
   ]
  },
  {
   "cell_type": "code",
   "execution_count": 30,
   "id": "ef4c076c",
   "metadata": {},
   "outputs": [],
   "source": [
    "ted_dict = { \n",
    "    \n",
    "    'Speaker': names,\n",
    "    'Talk_title': titles,\n",
    "    'When_posted': posted,\n",
    "    'Talk_duration': duration,\n",
    "    'Views_number': views,\n",
    "    'Event_name': event_name,\n",
    "    'Link': links2\n",
    "}    "
   ]
  },
  {
   "cell_type": "code",
   "execution_count": 31,
   "id": "4748e08a",
   "metadata": {},
   "outputs": [
    {
     "data": {
      "text/html": [
       "<div>\n",
       "<style scoped>\n",
       "    .dataframe tbody tr th:only-of-type {\n",
       "        vertical-align: middle;\n",
       "    }\n",
       "\n",
       "    .dataframe tbody tr th {\n",
       "        vertical-align: top;\n",
       "    }\n",
       "\n",
       "    .dataframe thead th {\n",
       "        text-align: right;\n",
       "    }\n",
       "</style>\n",
       "<table border=\"1\" class=\"dataframe\">\n",
       "  <thead>\n",
       "    <tr style=\"text-align: right;\">\n",
       "      <th></th>\n",
       "      <th>Speaker</th>\n",
       "      <th>Talk_title</th>\n",
       "      <th>When_posted</th>\n",
       "      <th>Talk_duration</th>\n",
       "      <th>Views_number</th>\n",
       "      <th>Event_name</th>\n",
       "      <th>Link</th>\n",
       "    </tr>\n",
       "  </thead>\n",
       "  <tbody>\n",
       "    <tr>\n",
       "      <th>0</th>\n",
       "      <td>Henri Picciotto</td>\n",
       "      <td>Can you solve the alien pyramid riddle?</td>\n",
       "      <td>Sep 2022</td>\n",
       "      <td>4:54</td>\n",
       "      <td>Henri Picciotto • TED-Ed</td>\n",
       "      <td>TED-Ed</td>\n",
       "      <td>https://www.ted.com/talks/henri_picciotto_can_...</td>\n",
       "    </tr>\n",
       "    <tr>\n",
       "      <th>1</th>\n",
       "      <td>Andrew Ng</td>\n",
       "      <td>How AI could empower any business</td>\n",
       "      <td>Sep 2022</td>\n",
       "      <td>11:13</td>\n",
       "      <td>200,685</td>\n",
       "      <td>TED2022</td>\n",
       "      <td>https://www.ted.com/talks/andrew_ng_how_ai_cou...</td>\n",
       "    </tr>\n",
       "    <tr>\n",
       "      <th>2</th>\n",
       "      <td>Melodie Yashar</td>\n",
       "      <td>How to build for human life on Mars</td>\n",
       "      <td>Sep 2022</td>\n",
       "      <td>10:37</td>\n",
       "      <td>292,542</td>\n",
       "      <td>TED2022</td>\n",
       "      <td>https://www.ted.com/talks/melodie_yashar_how_t...</td>\n",
       "    </tr>\n",
       "    <tr>\n",
       "      <th>3</th>\n",
       "      <td>Nicholas Leeper</td>\n",
       "      <td>Is there a link between cancer and heart disease?</td>\n",
       "      <td>Sep 2022</td>\n",
       "      <td>15:16</td>\n",
       "      <td>431,971</td>\n",
       "      <td>TEDxVienna</td>\n",
       "      <td>https://www.ted.com/talks/nicholas_leeper_is_t...</td>\n",
       "    </tr>\n",
       "    <tr>\n",
       "      <th>4</th>\n",
       "      <td>Hei Man Chan</td>\n",
       "      <td>Is it possible to lose weight fast?</td>\n",
       "      <td>Sep 2022</td>\n",
       "      <td>4:37</td>\n",
       "      <td>380,671</td>\n",
       "      <td>TED-Ed</td>\n",
       "      <td>https://www.ted.com/talks/hei_man_chan_is_it_p...</td>\n",
       "    </tr>\n",
       "    <tr>\n",
       "      <th>...</th>\n",
       "      <td>...</td>\n",
       "      <td>...</td>\n",
       "      <td>...</td>\n",
       "      <td>...</td>\n",
       "      <td>...</td>\n",
       "      <td>...</td>\n",
       "      <td>...</td>\n",
       "    </tr>\n",
       "    <tr>\n",
       "      <th>5682</th>\n",
       "      <td>Hans Rosling</td>\n",
       "      <td>The best stats you've ever seen</td>\n",
       "      <td>Jun 2006</td>\n",
       "      <td>19:50</td>\n",
       "      <td>15,420,594</td>\n",
       "      <td>TED2006</td>\n",
       "      <td>https://www.ted.com/talks/hans_rosling_the_bes...</td>\n",
       "    </tr>\n",
       "    <tr>\n",
       "      <th>5683</th>\n",
       "      <td>Sir Ken Robinson</td>\n",
       "      <td>Do schools kill creativity?</td>\n",
       "      <td>Jun 2006</td>\n",
       "      <td>19:24</td>\n",
       "      <td>73,839,997</td>\n",
       "      <td>TED2006</td>\n",
       "      <td>https://www.ted.com/talks/sir_ken_robinson_do_...</td>\n",
       "    </tr>\n",
       "    <tr>\n",
       "      <th>5684</th>\n",
       "      <td>Majora Carter</td>\n",
       "      <td>Greening the ghetto</td>\n",
       "      <td>Jun 2006</td>\n",
       "      <td>18:36</td>\n",
       "      <td>3,002,749</td>\n",
       "      <td>TED2006</td>\n",
       "      <td>https://www.ted.com/talks/majora_carter_greeni...</td>\n",
       "    </tr>\n",
       "    <tr>\n",
       "      <th>5685</th>\n",
       "      <td>David Pogue</td>\n",
       "      <td>Simplicity sells</td>\n",
       "      <td>Jun 2006</td>\n",
       "      <td>21:26</td>\n",
       "      <td>2,011,584</td>\n",
       "      <td>TED2006</td>\n",
       "      <td>https://www.ted.com/talks/david_pogue_simplici...</td>\n",
       "    </tr>\n",
       "    <tr>\n",
       "      <th>5686</th>\n",
       "      <td>Al Gore</td>\n",
       "      <td>Averting the climate crisis</td>\n",
       "      <td>Jun 2006</td>\n",
       "      <td>16:17</td>\n",
       "      <td>3,679,889</td>\n",
       "      <td>TED2006</td>\n",
       "      <td>https://www.ted.com/talks/al_gore_averting_the...</td>\n",
       "    </tr>\n",
       "  </tbody>\n",
       "</table>\n",
       "<p>5687 rows × 7 columns</p>\n",
       "</div>"
      ],
      "text/plain": [
       "               Speaker                                         Talk_title  \\\n",
       "0      Henri Picciotto            Can you solve the alien pyramid riddle?   \n",
       "1            Andrew Ng                  How AI could empower any business   \n",
       "2       Melodie Yashar                How to build for human life on Mars   \n",
       "3      Nicholas Leeper  Is there a link between cancer and heart disease?   \n",
       "4         Hei Man Chan                Is it possible to lose weight fast?   \n",
       "...                ...                                                ...   \n",
       "5682      Hans Rosling                    The best stats you've ever seen   \n",
       "5683  Sir Ken Robinson                        Do schools kill creativity?   \n",
       "5684     Majora Carter                                Greening the ghetto   \n",
       "5685       David Pogue                                   Simplicity sells   \n",
       "5686           Al Gore                        Averting the climate crisis   \n",
       "\n",
       "     When_posted Talk_duration              Views_number  Event_name  \\\n",
       "0       Sep 2022          4:54  Henri Picciotto • TED-Ed      TED-Ed   \n",
       "1       Sep 2022         11:13                   200,685     TED2022   \n",
       "2       Sep 2022         10:37                   292,542     TED2022   \n",
       "3       Sep 2022         15:16                   431,971  TEDxVienna   \n",
       "4       Sep 2022          4:37                   380,671      TED-Ed   \n",
       "...          ...           ...                       ...         ...   \n",
       "5682    Jun 2006         19:50                15,420,594     TED2006   \n",
       "5683    Jun 2006         19:24                73,839,997     TED2006   \n",
       "5684    Jun 2006         18:36                 3,002,749     TED2006   \n",
       "5685    Jun 2006         21:26                 2,011,584     TED2006   \n",
       "5686    Jun 2006         16:17                 3,679,889     TED2006   \n",
       "\n",
       "                                                   Link  \n",
       "0     https://www.ted.com/talks/henri_picciotto_can_...  \n",
       "1     https://www.ted.com/talks/andrew_ng_how_ai_cou...  \n",
       "2     https://www.ted.com/talks/melodie_yashar_how_t...  \n",
       "3     https://www.ted.com/talks/nicholas_leeper_is_t...  \n",
       "4     https://www.ted.com/talks/hei_man_chan_is_it_p...  \n",
       "...                                                 ...  \n",
       "5682  https://www.ted.com/talks/hans_rosling_the_bes...  \n",
       "5683  https://www.ted.com/talks/sir_ken_robinson_do_...  \n",
       "5684  https://www.ted.com/talks/majora_carter_greeni...  \n",
       "5685  https://www.ted.com/talks/david_pogue_simplici...  \n",
       "5686  https://www.ted.com/talks/al_gore_averting_the...  \n",
       "\n",
       "[5687 rows x 7 columns]"
      ]
     },
     "execution_count": 31,
     "metadata": {},
     "output_type": "execute_result"
    }
   ],
   "source": [
    "ted_df1 = pd.DataFrame(ted_dict)\n",
    "ted_df1"
   ]
  },
  {
   "cell_type": "markdown",
   "id": "9e9e7ff3",
   "metadata": {},
   "source": [
    "# Speaker Occupations"
   ]
  },
  {
   "cell_type": "markdown",
   "id": "2fd94ffa",
   "metadata": {},
   "source": [
    "# Names_two"
   ]
  },
  {
   "cell_type": "code",
   "execution_count": 32,
   "id": "d230d803",
   "metadata": {},
   "outputs": [],
   "source": [
    "page = 1\n",
    "names2 = [] \n",
    "while page != 120:\n",
    "    driver.get(f\"https://www.ted.com/speakers?page={page}\")\n",
    "    driver.implicitly_wait(3)\n",
    "    html_source = driver.page_source\n",
    "    soup = BeautifulSoup(html_source, 'lxml')\n",
    "     \n",
    "    for i in soup.find_all(\"h4\",  class_= \"h7 m5\"):\n",
    "        names2.append(i.get_text(separator=\" \").strip()) #Separator used because there was no space between names.\n",
    "           \n",
    "    page = page + 1           "
   ]
  },
  {
   "cell_type": "code",
   "execution_count": 33,
   "id": "e4c20154",
   "metadata": {},
   "outputs": [
    {
     "data": {
      "text/plain": [
       "['Jennifer Aaker',\n",
       " 'Sandra Aamodt',\n",
       " 'Morra Aarons-Mele',\n",
       " 'Trevor Aaronson',\n",
       " 'Chris Abani']"
      ]
     },
     "execution_count": 33,
     "metadata": {},
     "output_type": "execute_result"
    }
   ],
   "source": [
    "names2[:5]"
   ]
  },
  {
   "cell_type": "code",
   "execution_count": 34,
   "id": "ce20fab7",
   "metadata": {},
   "outputs": [
    {
     "data": {
      "text/plain": [
       "3562"
      ]
     },
     "execution_count": 34,
     "metadata": {},
     "output_type": "execute_result"
    }
   ],
   "source": [
    "len(names2)"
   ]
  },
  {
   "cell_type": "markdown",
   "id": "8e62707c",
   "metadata": {},
   "source": [
    "# Occupation"
   ]
  },
  {
   "cell_type": "code",
   "execution_count": 35,
   "id": "62530ba1",
   "metadata": {},
   "outputs": [],
   "source": [
    "page = 1\n",
    "occupation = []\n",
    "while page != 120:\n",
    "    driver.get(f\"https://www.ted.com/speakers?page={page}\")\n",
    "    driver.implicitly_wait(3)\n",
    "    html_source = driver.page_source\n",
    "    soup = BeautifulSoup(html_source, 'lxml')\n",
    "    \n",
    "    for i in soup.find_all(\"p\", class_=\"p4\"):\n",
    "        occupation.append(i.get_text(strip=True))\n",
    "    page = page + 1   "
   ]
  },
  {
   "cell_type": "code",
   "execution_count": 36,
   "id": "dc835996",
   "metadata": {},
   "outputs": [
    {
     "data": {
      "text/plain": [
       "['Behavioral scientist',\n",
       " 'Neuroscientist and science writer',\n",
       " 'Anxious overachiever',\n",
       " 'Journalist',\n",
       " 'Novelist, poet']"
      ]
     },
     "execution_count": 36,
     "metadata": {},
     "output_type": "execute_result"
    }
   ],
   "source": [
    "occupation[:5]"
   ]
  },
  {
   "cell_type": "code",
   "execution_count": 37,
   "id": "e157937a",
   "metadata": {},
   "outputs": [
    {
     "data": {
      "text/plain": [
       "3562"
      ]
     },
     "execution_count": 37,
     "metadata": {},
     "output_type": "execute_result"
    }
   ],
   "source": [
    "len(occupation)"
   ]
  },
  {
   "cell_type": "markdown",
   "id": "cbf72940",
   "metadata": {},
   "source": [
    "# Occupations Dataframe"
   ]
  },
  {
   "cell_type": "code",
   "execution_count": 38,
   "id": "77154a94",
   "metadata": {},
   "outputs": [],
   "source": [
    "ted_dict2 = { \n",
    "    \n",
    "    'Speaker': names2,\n",
    "    'Occupation': occupation\n",
    "     \n",
    "}"
   ]
  },
  {
   "cell_type": "code",
   "execution_count": 39,
   "id": "cd93a394",
   "metadata": {},
   "outputs": [
    {
     "data": {
      "text/html": [
       "<div>\n",
       "<style scoped>\n",
       "    .dataframe tbody tr th:only-of-type {\n",
       "        vertical-align: middle;\n",
       "    }\n",
       "\n",
       "    .dataframe tbody tr th {\n",
       "        vertical-align: top;\n",
       "    }\n",
       "\n",
       "    .dataframe thead th {\n",
       "        text-align: right;\n",
       "    }\n",
       "</style>\n",
       "<table border=\"1\" class=\"dataframe\">\n",
       "  <thead>\n",
       "    <tr style=\"text-align: right;\">\n",
       "      <th></th>\n",
       "      <th>Speaker</th>\n",
       "      <th>Occupation</th>\n",
       "    </tr>\n",
       "  </thead>\n",
       "  <tbody>\n",
       "    <tr>\n",
       "      <th>0</th>\n",
       "      <td>Jennifer Aaker</td>\n",
       "      <td>Behavioral scientist</td>\n",
       "    </tr>\n",
       "    <tr>\n",
       "      <th>1</th>\n",
       "      <td>Sandra Aamodt</td>\n",
       "      <td>Neuroscientist and science writer</td>\n",
       "    </tr>\n",
       "    <tr>\n",
       "      <th>2</th>\n",
       "      <td>Morra Aarons-Mele</td>\n",
       "      <td>Anxious overachiever</td>\n",
       "    </tr>\n",
       "    <tr>\n",
       "      <th>3</th>\n",
       "      <td>Trevor Aaronson</td>\n",
       "      <td>Journalist</td>\n",
       "    </tr>\n",
       "    <tr>\n",
       "      <th>4</th>\n",
       "      <td>Chris Abani</td>\n",
       "      <td>Novelist, poet</td>\n",
       "    </tr>\n",
       "    <tr>\n",
       "      <th>...</th>\n",
       "      <td>...</td>\n",
       "      <td>...</td>\n",
       "    </tr>\n",
       "    <tr>\n",
       "      <th>3557</th>\n",
       "      <td>Ethan Zuckerman</td>\n",
       "      <td>Blogger, digital visionary</td>\n",
       "    </tr>\n",
       "    <tr>\n",
       "      <th>3558</th>\n",
       "      <td>Marlene Zuk</td>\n",
       "      <td>Evolutionary biologist</td>\n",
       "    </tr>\n",
       "    <tr>\n",
       "      <th>3559</th>\n",
       "      <td>Mikhail Zygar</td>\n",
       "      <td>Journalist, writer, filmmaker</td>\n",
       "    </tr>\n",
       "    <tr>\n",
       "      <th>3560</th>\n",
       "      <td>Karin Öberg</td>\n",
       "      <td>Space chemist</td>\n",
       "    </tr>\n",
       "    <tr>\n",
       "      <th>3561</th>\n",
       "      <td>Uğur Şahin</td>\n",
       "      <td>Physician, immunologist</td>\n",
       "    </tr>\n",
       "  </tbody>\n",
       "</table>\n",
       "<p>3562 rows × 2 columns</p>\n",
       "</div>"
      ],
      "text/plain": [
       "                Speaker                         Occupation\n",
       "0        Jennifer Aaker               Behavioral scientist\n",
       "1         Sandra Aamodt  Neuroscientist and science writer\n",
       "2     Morra Aarons-Mele               Anxious overachiever\n",
       "3       Trevor Aaronson                         Journalist\n",
       "4           Chris Abani                     Novelist, poet\n",
       "...                 ...                                ...\n",
       "3557    Ethan Zuckerman         Blogger, digital visionary\n",
       "3558        Marlene Zuk             Evolutionary biologist\n",
       "3559      Mikhail Zygar      Journalist, writer, filmmaker\n",
       "3560        Karin Öberg                      Space chemist\n",
       "3561         Uğur Şahin            Physician, immunologist\n",
       "\n",
       "[3562 rows x 2 columns]"
      ]
     },
     "execution_count": 39,
     "metadata": {},
     "output_type": "execute_result"
    }
   ],
   "source": [
    "ted_df2 = pd.DataFrame(ted_dict2)\n",
    "ted_df2"
   ]
  },
  {
   "cell_type": "code",
   "execution_count": null,
   "id": "5870f43a",
   "metadata": {},
   "outputs": [],
   "source": []
  }
 ],
 "metadata": {
  "kernelspec": {
   "display_name": "Python 3 (ipykernel)",
   "language": "python",
   "name": "python3"
  },
  "language_info": {
   "codemirror_mode": {
    "name": "ipython",
    "version": 3
   },
   "file_extension": ".py",
   "mimetype": "text/x-python",
   "name": "python",
   "nbconvert_exporter": "python",
   "pygments_lexer": "ipython3",
   "version": "3.9.12"
  }
 },
 "nbformat": 4,
 "nbformat_minor": 5
}
